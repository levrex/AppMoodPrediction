{
 "cells": [
  {
   "cell_type": "markdown",
   "metadata": {},
   "source": [
    "# Datamining"
   ]
  },
  {
   "cell_type": "code",
   "execution_count": 1,
   "metadata": {},
   "outputs": [
    {
     "name": "stdout",
     "output_type": "stream",
     "text": [
      "Current versions Modules:\n",
      "\n",
      "Pandas version:\t\t0.24.2\n",
      "Matplotlib version:\t3.1.0\n",
      "numpy version:\t\t1.16.4\n",
      "sklearn version:\t0.21.2\n"
     ]
    }
   ],
   "source": [
    "SEED = 26062019\n",
    "\n",
    "test_size = 0.5 \n",
    "\n",
    "import sys\n",
    "import numpy as np\n",
    "import pandas as pd\n",
    "from sklearn import __version__ as sk_vers\n",
    "import matplotlib.pyplot as plt\n",
    "from matplotlib import __version__ as m_vers\n",
    "#import pickle\n",
    "#from yellowbrick import __version__ as yb_vers\n",
    "#import random\n",
    "#from sklearn import datasets, svm, model_selection, tree, preprocessing, metrics\n",
    "#import sklearn.ensemble as ske\n",
    "#import re\n",
    "#import xgboost as xgb\n",
    "#import seaborn as sns\n",
    "\n",
    "\n",
    "print('Current versions Modules:\\n')\n",
    "print('Pandas version:\\t\\t' + pd.__version__)\n",
    "print('Matplotlib version:\\t' + m_vers)\n",
    "print('numpy version:\\t\\t' + np.__version__)\n",
    "print('sklearn version:\\t' + sk_vers)"
   ]
  },
  {
   "cell_type": "markdown",
   "metadata": {},
   "source": [
    "## Load data"
   ]
  },
  {
   "cell_type": "code",
   "execution_count": 2,
   "metadata": {},
   "outputs": [
    {
     "name": "stdout",
     "output_type": "stream",
     "text": [
      "nr of entries:  376912\n"
     ]
    },
    {
     "data": {
      "text/html": [
       "<div>\n",
       "<style scoped>\n",
       "    .dataframe tbody tr th:only-of-type {\n",
       "        vertical-align: middle;\n",
       "    }\n",
       "\n",
       "    .dataframe tbody tr th {\n",
       "        vertical-align: top;\n",
       "    }\n",
       "\n",
       "    .dataframe thead th {\n",
       "        text-align: right;\n",
       "    }\n",
       "</style>\n",
       "<table border=\"1\" class=\"dataframe\">\n",
       "  <thead>\n",
       "    <tr style=\"text-align: right;\">\n",
       "      <th></th>\n",
       "      <th>id</th>\n",
       "      <th>time</th>\n",
       "      <th>variable</th>\n",
       "      <th>value</th>\n",
       "    </tr>\n",
       "  </thead>\n",
       "  <tbody>\n",
       "    <tr>\n",
       "      <th>1</th>\n",
       "      <td>AS14.01</td>\n",
       "      <td>2014-02-26 13:00:00</td>\n",
       "      <td>mood</td>\n",
       "      <td>6.0</td>\n",
       "    </tr>\n",
       "    <tr>\n",
       "      <th>2</th>\n",
       "      <td>AS14.01</td>\n",
       "      <td>2014-02-26 15:00:00</td>\n",
       "      <td>mood</td>\n",
       "      <td>6.0</td>\n",
       "    </tr>\n",
       "    <tr>\n",
       "      <th>3</th>\n",
       "      <td>AS14.01</td>\n",
       "      <td>2014-02-26 18:00:00</td>\n",
       "      <td>mood</td>\n",
       "      <td>6.0</td>\n",
       "    </tr>\n",
       "    <tr>\n",
       "      <th>4</th>\n",
       "      <td>AS14.01</td>\n",
       "      <td>2014-02-26 21:00:00</td>\n",
       "      <td>mood</td>\n",
       "      <td>7.0</td>\n",
       "    </tr>\n",
       "    <tr>\n",
       "      <th>5</th>\n",
       "      <td>AS14.01</td>\n",
       "      <td>2014-02-27 09:00:00</td>\n",
       "      <td>mood</td>\n",
       "      <td>6.0</td>\n",
       "    </tr>\n",
       "  </tbody>\n",
       "</table>\n",
       "</div>"
      ],
      "text/plain": [
       "        id                time variable  value\n",
       "1  AS14.01 2014-02-26 13:00:00     mood    6.0\n",
       "2  AS14.01 2014-02-26 15:00:00     mood    6.0\n",
       "3  AS14.01 2014-02-26 18:00:00     mood    6.0\n",
       "4  AS14.01 2014-02-26 21:00:00     mood    7.0\n",
       "5  AS14.01 2014-02-27 09:00:00     mood    6.0"
      ]
     },
     "execution_count": 2,
     "metadata": {},
     "output_type": "execute_result"
    }
   ],
   "source": [
    "df_mood = pd.read_csv(r'data/dataset_mood_smartphone.csv', sep=',', index_col=0)\n",
    "print('nr of entries: ', len(df_mood))\n",
    "df_mood['time'] = df_mood['time'].astype('datetime64[ns]')\n",
    "\n",
    "df_mood.head()"
   ]
  },
  {
   "cell_type": "code",
   "execution_count": 3,
   "metadata": {},
   "outputs": [
    {
     "name": "stdout",
     "output_type": "stream",
     "text": [
      "(5641, 5643, 5643, 22965, 96578, 5239, 1798, 91288, 74276, 27125, 939, 813, 5642, 7650, 19145, 2846, 939, 2487, 255)\n"
     ]
    },
    {
     "data": {
      "image/png": "[encoded data removed]",
      "text/plain": [
       "<Figure size 360x360 with 1 Axes>"
      ]
     },
     "metadata": {
      "needs_background": "light"
     },
     "output_type": "display_data"
    }
   ],
   "source": [
    "from collections import Counter\n",
    "\n",
    "labels, values = zip(*Counter(df_mood['variable']).items())\n",
    "print(values)\n",
    "df = pd.DataFrame({'section':labels, 'frequency':values})\n",
    "ax = df.plot(kind='bar',  title =\"Categories Variable\", figsize=(5, 5), x='section', legend=True, fontsize=12, rot=90)"
   ]
  },
  {
   "cell_type": "code",
   "execution_count": 4,
   "metadata": {},
   "outputs": [
    {
     "data": {
      "image/png": "[encoded data removed]",
      "text/plain": [
       "<Figure size 432x288 with 1 Axes>"
      ]
     },
     "metadata": {
      "needs_background": "light"
     },
     "output_type": "display_data"
    }
   ],
   "source": [
    "from collections import Counter\n",
    "\n",
    "sub_mood = df_mood[df_mood['variable']=='mood']\n",
    "\n",
    "x = sub_mood['value']\n",
    "plt.hist(x)\n",
    "plt.gca().set(title='Mood Histogram', ylabel='Entries');"
   ]
  },
  {
   "cell_type": "code",
   "execution_count": 5,
   "metadata": {},
   "outputs": [
    {
     "data": {
      "image/png": "[encoded data removed]",
      "text/plain": [
       "<Figure size 432x288 with 1 Axes>"
      ]
     },
     "metadata": {
      "needs_background": "light"
     },
     "output_type": "display_data"
    }
   ],
   "source": [
    "from collections import Counter\n",
    "\n",
    "sub_mood = df_mood[df_mood['variable']=='activity']\n",
    "\n",
    "x = sub_mood['value']\n",
    "plt.hist(x, bins=20)\n",
    "plt.gca().set(title='Activity Histogram', ylabel='Entries');"
   ]
  },
  {
   "cell_type": "code",
   "execution_count": 14,
   "metadata": {},
   "outputs": [
    {
     "data": {
      "image/png": "[encoded data removed]",
      "text/plain": [
       "<Figure size 432x288 with 1 Axes>"
      ]
     },
     "metadata": {
      "needs_background": "light"
     },
     "output_type": "display_data"
    }
   ],
   "source": [
    "from collections import Counter\n",
    "\n",
    "sub_mood = df_mood[df_mood['variable']=='screen']\n",
    "\n",
    "x = sub_mood['value']\n",
    "plt.hist(x, bins=20)\n",
    "plt.gca().set(title='Screen Histogram', ylabel='Entries');"
   ]
  },
  {
   "cell_type": "code",
   "execution_count": 8,
   "metadata": {},
   "outputs": [
    {
     "data": {
      "image/png": "[encoded data removed]",
      "text/plain": [
       "<Figure size 432x288 with 1 Axes>"
      ]
     },
     "metadata": {
      "needs_background": "light"
     },
     "output_type": "display_data"
    }
   ],
   "source": [
    "from collections import Counter\n",
    "\n",
    "sub_mood = df_mood[df_mood['variable']=='appCat.builtin']\n",
    "\n",
    "x = sub_mood['value']\n",
    "plt.hist(x, bins=20)\n",
    "plt.gca().set(title='appCat.builtin Histogram', ylabel='Entries');"
   ]
  },
  {
   "cell_type": "code",
   "execution_count": 13,
   "metadata": {},
   "outputs": [
    {
     "data": {
      "image/png": "[encoded data removed]",
      "text/plain": [
       "<Figure size 432x288 with 1 Axes>"
      ]
     },
     "metadata": {
      "needs_background": "light"
     },
     "output_type": "display_data"
    }
   ],
   "source": [
    "from collections import Counter\n",
    "\n",
    "sub_mood = df_mood[df_mood['variable']=='call']\n",
    "\n",
    "x = sub_mood['value']\n",
    "plt.hist(x, bins=20)\n",
    "plt.gca().set(title='appCat.game Histogram', ylabel='Entries');"
   ]
  },
  {
   "cell_type": "code",
   "execution_count": 12,
   "metadata": {},
   "outputs": [
    {
     "name": "stdout",
     "output_type": "stream",
     "text": [
      "Max:  id                             AS14.33\n",
      "time        2014-06-08 11:04:46.335000\n",
      "variable                appCat.builtin\n",
      "value                          33960.2\n",
      "dtype: object\n"
     ]
    }
   ],
   "source": [
    "print('Max: ', df_mood[df_mood['variable']=='appCat.builtin'].max())"
   ]
  },
  {
   "cell_type": "code",
   "execution_count": 4,
   "metadata": {},
   "outputs": [
    {
     "name": "stdout",
     "output_type": "stream",
     "text": [
      "Min:  -82798.871\n",
      "Max:  33960.246\n"
     ]
    }
   ],
   "source": [
    "print('Min: ', df_mood['value'].min())\n",
    "print('Max: ', df_mood['value'].max())\n"
   ]
  },
  {
   "cell_type": "markdown",
   "metadata": {},
   "source": [
    "## Aggregate Data"
   ]
  },
  {
   "cell_type": "markdown",
   "metadata": {},
   "source": [
    "### step 1: Count days since inclusion\n",
    "This is an important step to prepare the data for time window aggregation."
   ]
  },
  {
   "cell_type": "code",
   "execution_count": 5,
   "metadata": {},
   "outputs": [
    {
     "name": "stderr",
     "output_type": "stream",
     "text": [
      "C:\\Users\\levrex\\Anaconda3\\lib\\site-packages\\ipykernel_launcher.py:60: SettingWithCopyWarning: \n",
      "A value is trying to be set on a copy of a slice from a DataFrame.\n",
      "Try using .loc[row_indexer,col_indexer] = value instead\n",
      "\n",
      "See the caveats in the documentation: http://pandas.pydata.org/pandas-docs/stable/indexing.html#indexing-view-versus-copy\n"
     ]
    },
    {
     "data": {
      "text/html": [
       "<div>\n",
       "<style scoped>\n",
       "    .dataframe tbody tr th:only-of-type {\n",
       "        vertical-align: middle;\n",
       "    }\n",
       "\n",
       "    .dataframe tbody tr th {\n",
       "        vertical-align: top;\n",
       "    }\n",
       "\n",
       "    .dataframe thead th {\n",
       "        text-align: right;\n",
       "    }\n",
       "</style>\n",
       "<table border=\"1\" class=\"dataframe\">\n",
       "  <thead>\n",
       "    <tr style=\"text-align: right;\">\n",
       "      <th></th>\n",
       "      <th>id</th>\n",
       "      <th>time</th>\n",
       "      <th>variable</th>\n",
       "      <th>value</th>\n",
       "      <th>days</th>\n",
       "    </tr>\n",
       "  </thead>\n",
       "  <tbody>\n",
       "    <tr>\n",
       "      <th>0</th>\n",
       "      <td>AS14.01</td>\n",
       "      <td>2014-02-26 13:00:00</td>\n",
       "      <td>mood</td>\n",
       "      <td>6.0</td>\n",
       "      <td>9</td>\n",
       "    </tr>\n",
       "    <tr>\n",
       "      <th>1</th>\n",
       "      <td>AS14.01</td>\n",
       "      <td>2014-02-26 15:00:00</td>\n",
       "      <td>mood</td>\n",
       "      <td>6.0</td>\n",
       "      <td>9</td>\n",
       "    </tr>\n",
       "    <tr>\n",
       "      <th>2</th>\n",
       "      <td>AS14.01</td>\n",
       "      <td>2014-02-26 18:00:00</td>\n",
       "      <td>mood</td>\n",
       "      <td>6.0</td>\n",
       "      <td>9</td>\n",
       "    </tr>\n",
       "    <tr>\n",
       "      <th>3</th>\n",
       "      <td>AS14.01</td>\n",
       "      <td>2014-02-26 21:00:00</td>\n",
       "      <td>mood</td>\n",
       "      <td>7.0</td>\n",
       "      <td>9</td>\n",
       "    </tr>\n",
       "    <tr>\n",
       "      <th>4</th>\n",
       "      <td>AS14.01</td>\n",
       "      <td>2014-02-27 09:00:00</td>\n",
       "      <td>mood</td>\n",
       "      <td>6.0</td>\n",
       "      <td>9</td>\n",
       "    </tr>\n",
       "  </tbody>\n",
       "</table>\n",
       "</div>"
      ],
      "text/plain": [
       "        id                time variable  value days\n",
       "0  AS14.01 2014-02-26 13:00:00     mood    6.0    9\n",
       "1  AS14.01 2014-02-26 15:00:00     mood    6.0    9\n",
       "2  AS14.01 2014-02-26 18:00:00     mood    6.0    9\n",
       "3  AS14.01 2014-02-26 21:00:00     mood    7.0    9\n",
       "4  AS14.01 2014-02-27 09:00:00     mood    6.0    9"
      ]
     },
     "execution_count": 5,
     "metadata": {},
     "output_type": "execute_result"
    }
   ],
   "source": [
    "class Aggregation(object):\n",
    "    \"\"\"\n",
    "    Summary class:\n",
    "        Aggregate the temporial data with a time window\n",
    "        \n",
    "        - key = id column, unique users\n",
    "        - define the column with the timestamp\n",
    "        - define the window size\n",
    "    \"\"\"\n",
    "    def __init__(self, df, key, timestamp, window=5):\n",
    "        self.df = df\n",
    "        self.key = key\n",
    "        self.window = window\n",
    "        self.timestamp = timestamp\n",
    "    \n",
    "    def setDF(self):\n",
    "        self.df = df\n",
    "        \n",
    "    def getDF(self):\n",
    "        return self.df\n",
    "    \n",
    "    def formatTimeSpan(self):\n",
    "        \"\"\"\n",
    "        Translate time stamps to time in days ever since inclusion of said user\n",
    "        \n",
    "        Translate informational absent single observation columns \n",
    "        to meaningful frequencies. (For example: sms & calls columns)\n",
    "        \n",
    "        \"\"\"\n",
    "        cols = list(self.df.keys())\n",
    "        cols.append('days')\n",
    "        df_new = pd.DataFrame(columns=cols)\n",
    "        for subject in self.df[self.key].unique():\n",
    "            df_sub = self.df[self.df[self.key]==subject]\n",
    "            df_sub = self.countTheDays(df_sub)\n",
    "            for day in range(df_sub['days'].max()):\n",
    "                df_day = df_sub[df_sub['days']==day]\n",
    "                nr_calls = len(df_day[df_day['variable']=='call'])\n",
    "                #print(nr_calls)\n",
    "                if nr_calls != 0:\n",
    "                    df_calls = pd.DataFrame([pd.Series([df_day['id'].iloc[0], df_day['time'].iloc[0], 'total_calls', nr_calls, day])])\n",
    "                    df_calls = df_calls.rename(columns={0: cols[0], 1: cols[1], 2: cols[2], 3: cols[3], 4: cols[4]})\n",
    "                    #print(df_calls)\n",
    "                    \n",
    "                    df_sub = pd.concat([df_sub, df_calls], axis=0)\n",
    "                nr_sms = len(df_day[df_day['variable']=='sms'])\n",
    "                if nr_sms != 0:\n",
    "                    df_sms = pd.DataFrame([pd.Series([df_day['id'].iloc[0], df_day['time'].iloc[0], 'total_sms', nr_sms, day])])\n",
    "                    df_sms = df_sms.rename(columns={0: cols[0], 1: cols[1], 2: cols[2], 3: cols[3], 4: cols[4]})\n",
    "                    df_sub = pd.concat([df_sub, df_sms], axis=0)\n",
    "                if day not in list(df_sub['days'].unique()):\n",
    "                    #print(day)\n",
    "                    s = pd.DataFrame([pd.Series([df_sub['id'].iloc[0],np.nan,'mood',np.nan, day], index=cols)])\n",
    "                    df_sub = pd.concat([df_sub, s], axis=0, ignore_index=True)# df_sub.append(s, ignore_index=True)\n",
    "            df_new = pd.concat([df_new, df_sub])\n",
    "        self.df = df_new\n",
    "        \n",
    "    def countTheDays(self, df_sub):\n",
    "        initial_date = df_sub[self.timestamp].min()\n",
    "        df_sub['days'] = pd.to_datetime(df_sub[self.timestamp]).sub(initial_date).dt.days\n",
    "        return df_sub\n",
    "    \n",
    "agg = Aggregation(df_mood, 'id', 'time', window=5)\n",
    "agg.formatTimeSpan()\n",
    "temp_df = agg.getDF()\n",
    "temp_df.head()"
   ]
  },
  {
   "cell_type": "code",
   "execution_count": 127,
   "metadata": {},
   "outputs": [
    {
     "name": "stdout",
     "output_type": "stream",
     "text": [
      "379176\n",
      "372139\n"
     ]
    }
   ],
   "source": [
    "print(len(temp_df))\n",
    "print(len(temp_df[((temp_df['variable']!='call') &(temp_df['variable']!='sms'))]))"
   ]
  },
  {
   "cell_type": "markdown",
   "metadata": {},
   "source": [
    "## Aggregate History\n",
    "\n",
    "### Step 1: Transform long to wide\n",
    "### Step 2: Aggregate "
   ]
  },
  {
   "cell_type": "code",
   "execution_count": 108,
   "metadata": {
    "scrolled": true
   },
   "outputs": [],
   "source": [
    "class Aggregation2(object):\n",
    "    \"\"\"\n",
    "    Summary class:\n",
    "        Aggregate the temporial data with a time window\n",
    "        \n",
    "        - key = id column, unique users\n",
    "        - define the column with the timestamp\n",
    "        - define the window size\n",
    "    \"\"\"\n",
    "    def __init__(self, df, key, timestamp, window=5):\n",
    "        self.df = df\n",
    "        self.key = key\n",
    "        self.window = window\n",
    "        self.timestamp = timestamp\n",
    "        \n",
    "    def getFinalMood(self, row):\n",
    "        #print(row['days'])\n",
    "        next_day = int(row['days']) + 1\n",
    "        \n",
    "        subject = row['id']\n",
    "        if next_day < len(self.df[self.df[self.key]==subject]):\n",
    "            next_mood = self.df[((self.df[self.key]==subject)&(self.df['days']==next_day))]['mood'].iloc[0]\n",
    "            # print(next_mood)\n",
    "        else :\n",
    "            next_mood = np.nan\n",
    "        return next_mood\n",
    "    \n",
    "    def aggregate(self, window_size):\n",
    "        # create sub df for each subject\n",
    "        cols = list(self.df.keys())\n",
    "        #print(cols)\n",
    "        cols.append('final_mood') # add label\n",
    "        df_new = pd.DataFrame(columns=cols)\n",
    "        for subject in self.df[self.key].unique():\n",
    "            df_sub = self.df[self.df[self.key]==subject]\n",
    "            df_sub.rolling(5).agg({'activity':'mean', 'appCat.builtin':'mean', 'appCat.communication':'mean','appCat.entertainment':'mean', \n",
    "                           'appCat.other':'mean','appCat.social':'mean', 'appCat.travel':'mean', 'circumplex.arousal':'mean',  \n",
    "                           'circumplex.valence':'mean',  'mood':'mean',  'screen':'mean',  'total_calls':'mean',  'total_sms':'mean'})\n",
    "            df_sub['final_mood'] = df_sub['days'].copy()\n",
    "            df_sub['final_mood'] = df_sub.apply(lambda x : self.getFinalMood(x), axis=1)\n",
    "            df_sub['days'] = df_sub['days'].apply(lambda x : 'day '+ str(x-window_size+1)+ ' to ' + str(x+1))\n",
    "            df_new = pd.concat([df_new, df_sub])\n",
    "        self.df = df_new\n",
    "        return\n",
    "    \n",
    "    def getDF(self):\n",
    "        return self.df\n",
    "\n",
    "temp_df_unstack = temp_df.groupby(['id', 'days','variable'])['value'].median().unstack('variable')\n",
    "temp_df_unstack = temp_df_unstack[['activity', 'appCat.builtin', 'appCat.communication',\n",
    "       'appCat.entertainment', 'appCat.other', 'appCat.social', 'appCat.travel',\n",
    "       'circumplex.arousal', 'circumplex.valence', 'mood', 'screen',\n",
    "       'total_calls', 'total_sms']]\n",
    "temp_df_unstack = temp_df_unstack.reset_index(level=1, drop=False)\n",
    "temp_df_unstack = temp_df_unstack.reset_index()\n",
    "temp_df_unstack.to_csv(r'data/prep_temporal_raw.csv', index = False, header=True)\n",
    "agg = Aggregation2(temp_df_unstack, 'id', 'time', window=5)\n",
    "agg.aggregate(5)\n",
    "temp_df_2 = agg.getDF()\n",
    "temp_df_2.head()"
   ]
  },
  {
   "cell_type": "markdown",
   "metadata": {},
   "source": [
    "## Write preprocessed aggregated datasets\n",
    "Two versions:\n",
    "- With missing mood values or labels () (raw)\n",
    "- Without missing mood values or labels\n",
    "Note: we also ensure that the current mood was registered otherwise we cant compare to baseline"
   ]
  },
  {
   "cell_type": "code",
   "execution_count": 99,
   "metadata": {},
   "outputs": [
    {
     "name": "stdout",
     "output_type": "stream",
     "text": [
      "1232\n"
     ]
    }
   ],
   "source": [
    "print('Nr entries with available label:', len(temp_df_2[((~temp_df_2['final_mood'].isna()) & (~temp_df_2['mood'].isna()))]))\n",
    "print('Nr of entries with missing label:', len(temp_df_2[((temp_df_2['final_mood'].isna()) | (temp_df_2['mood'].isna()))]))\n",
    "temp_df_2.to_csv(r'data/prep_aggregated_raw.csv', index = False, header=True)\n",
    "temp_df_2[((~temp_df_2['final_mood'].isna()) & (~temp_df_2['mood'].isna()))].to_csv(r'data/prep_aggregated_noNan.csv', index = False, header=True)"
   ]
  },
  {
   "cell_type": "code",
   "execution_count": 100,
   "metadata": {},
   "outputs": [
    {
     "data": {
      "image/png": "[encoded data removed]",
      "text/plain": [
       "<Figure size 432x288 with 1 Axes>"
      ]
     },
     "metadata": {
      "needs_background": "light"
     },
     "output_type": "display_data"
    }
   ],
   "source": [
    "from collections import Counter\n",
    "\n",
    "x = temp_df_2['final_mood']\n",
    "plt.hist(x, bins=10)\n",
    "plt.gca().set(title='finalMood', ylabel='Entries');"
   ]
  },
  {
   "cell_type": "code",
   "execution_count": 103,
   "metadata": {},
   "outputs": [
    {
     "name": "stdout",
     "output_type": "stream",
     "text": [
      "nr of entries:  1232\n"
     ]
    },
    {
     "data": {
      "text/html": [
       "<div>\n",
       "<style scoped>\n",
       "    .dataframe tbody tr th:only-of-type {\n",
       "        vertical-align: middle;\n",
       "    }\n",
       "\n",
       "    .dataframe tbody tr th {\n",
       "        vertical-align: top;\n",
       "    }\n",
       "\n",
       "    .dataframe thead th {\n",
       "        text-align: right;\n",
       "    }\n",
       "</style>\n",
       "<table border=\"1\" class=\"dataframe\">\n",
       "  <thead>\n",
       "    <tr style=\"text-align: right;\">\n",
       "      <th></th>\n",
       "      <th>id</th>\n",
       "      <th>days</th>\n",
       "      <th>activity</th>\n",
       "      <th>appCat.builtin</th>\n",
       "      <th>appCat.communication</th>\n",
       "      <th>appCat.entertainment</th>\n",
       "      <th>appCat.other</th>\n",
       "      <th>appCat.social</th>\n",
       "      <th>appCat.travel</th>\n",
       "      <th>circumplex.arousal</th>\n",
       "      <th>circumplex.valence</th>\n",
       "      <th>mood</th>\n",
       "      <th>screen</th>\n",
       "      <th>total_calls</th>\n",
       "      <th>total_sms</th>\n",
       "      <th>final_mood</th>\n",
       "    </tr>\n",
       "  </thead>\n",
       "  <tbody>\n",
       "    <tr>\n",
       "      <th>0</th>\n",
       "      <td>AS14.01</td>\n",
       "      <td>day 5 to 10</td>\n",
       "      <td>NaN</td>\n",
       "      <td>NaN</td>\n",
       "      <td>NaN</td>\n",
       "      <td>NaN</td>\n",
       "      <td>NaN</td>\n",
       "      <td>NaN</td>\n",
       "      <td>NaN</td>\n",
       "      <td>-0.5</td>\n",
       "      <td>0.5</td>\n",
       "      <td>6.0</td>\n",
       "      <td>NaN</td>\n",
       "      <td>1.0</td>\n",
       "      <td>2.0</td>\n",
       "      <td>7.0</td>\n",
       "    </tr>\n",
       "    <tr>\n",
       "      <th>1</th>\n",
       "      <td>AS14.01</td>\n",
       "      <td>day 27 to 32</td>\n",
       "      <td>0.008333</td>\n",
       "      <td>3.0410</td>\n",
       "      <td>27.6845</td>\n",
       "      <td>22.7870</td>\n",
       "      <td>13.6375</td>\n",
       "      <td>65.335</td>\n",
       "      <td>14.067</td>\n",
       "      <td>-0.5</td>\n",
       "      <td>0.0</td>\n",
       "      <td>6.0</td>\n",
       "      <td>31.748</td>\n",
       "      <td>NaN</td>\n",
       "      <td>NaN</td>\n",
       "      <td>7.0</td>\n",
       "    </tr>\n",
       "    <tr>\n",
       "      <th>2</th>\n",
       "      <td>AS14.01</td>\n",
       "      <td>day 28 to 33</td>\n",
       "      <td>0.144068</td>\n",
       "      <td>3.9040</td>\n",
       "      <td>24.6470</td>\n",
       "      <td>21.2360</td>\n",
       "      <td>10.1110</td>\n",
       "      <td>42.241</td>\n",
       "      <td>19.696</td>\n",
       "      <td>1.0</td>\n",
       "      <td>1.0</td>\n",
       "      <td>7.0</td>\n",
       "      <td>27.813</td>\n",
       "      <td>6.0</td>\n",
       "      <td>NaN</td>\n",
       "      <td>7.0</td>\n",
       "    </tr>\n",
       "    <tr>\n",
       "      <th>3</th>\n",
       "      <td>AS14.01</td>\n",
       "      <td>day 29 to 34</td>\n",
       "      <td>0.218487</td>\n",
       "      <td>4.0190</td>\n",
       "      <td>20.4580</td>\n",
       "      <td>46.6620</td>\n",
       "      <td>12.0540</td>\n",
       "      <td>40.275</td>\n",
       "      <td>NaN</td>\n",
       "      <td>0.0</td>\n",
       "      <td>1.0</td>\n",
       "      <td>7.0</td>\n",
       "      <td>17.975</td>\n",
       "      <td>3.0</td>\n",
       "      <td>1.0</td>\n",
       "      <td>6.0</td>\n",
       "    </tr>\n",
       "    <tr>\n",
       "      <th>4</th>\n",
       "      <td>AS14.01</td>\n",
       "      <td>day 30 to 35</td>\n",
       "      <td>0.055645</td>\n",
       "      <td>3.1085</td>\n",
       "      <td>19.8080</td>\n",
       "      <td>21.5865</td>\n",
       "      <td>9.0280</td>\n",
       "      <td>44.157</td>\n",
       "      <td>NaN</td>\n",
       "      <td>1.0</td>\n",
       "      <td>0.0</td>\n",
       "      <td>6.0</td>\n",
       "      <td>25.985</td>\n",
       "      <td>NaN</td>\n",
       "      <td>NaN</td>\n",
       "      <td>6.0</td>\n",
       "    </tr>\n",
       "  </tbody>\n",
       "</table>\n",
       "</div>"
      ],
      "text/plain": [
       "        id          days  activity  appCat.builtin  appCat.communication  \\\n",
       "0  AS14.01   day 5 to 10       NaN             NaN                   NaN   \n",
       "1  AS14.01  day 27 to 32  0.008333          3.0410               27.6845   \n",
       "2  AS14.01  day 28 to 33  0.144068          3.9040               24.6470   \n",
       "3  AS14.01  day 29 to 34  0.218487          4.0190               20.4580   \n",
       "4  AS14.01  day 30 to 35  0.055645          3.1085               19.8080   \n",
       "\n",
       "   appCat.entertainment  appCat.other  appCat.social  appCat.travel  \\\n",
       "0                   NaN           NaN            NaN            NaN   \n",
       "1               22.7870       13.6375         65.335         14.067   \n",
       "2               21.2360       10.1110         42.241         19.696   \n",
       "3               46.6620       12.0540         40.275            NaN   \n",
       "4               21.5865        9.0280         44.157            NaN   \n",
       "\n",
       "   circumplex.arousal  circumplex.valence  mood  screen  total_calls  \\\n",
       "0                -0.5                 0.5   6.0     NaN          1.0   \n",
       "1                -0.5                 0.0   6.0  31.748          NaN   \n",
       "2                 1.0                 1.0   7.0  27.813          6.0   \n",
       "3                 0.0                 1.0   7.0  17.975          3.0   \n",
       "4                 1.0                 0.0   6.0  25.985          NaN   \n",
       "\n",
       "   total_sms  final_mood  \n",
       "0        2.0         7.0  \n",
       "1        NaN         7.0  \n",
       "2        NaN         7.0  \n",
       "3        1.0         6.0  \n",
       "4        NaN         6.0  "
      ]
     },
     "execution_count": 103,
     "metadata": {},
     "output_type": "execute_result"
    }
   ],
   "source": [
    "df_agg = pd.read_csv(r'data/prep_aggregated_noNan.csv', sep=',')\n",
    "print('nr of entries: ', len(df_agg))\n",
    "df_agg.head()"
   ]
  },
  {
   "cell_type": "markdown",
   "metadata": {},
   "source": [
    "## missingness"
   ]
  },
  {
   "cell_type": "code",
   "execution_count": 104,
   "metadata": {},
   "outputs": [],
   "source": [
    "import seaborn as sns"
   ]
  },
  {
   "cell_type": "code",
   "execution_count": 107,
   "metadata": {},
   "outputs": [
    {
     "data": {
      "image/png": "[encoded data removed]",
      "text/plain": [
       "<Figure size 432x288 with 1 Axes>"
      ]
     },
     "metadata": {
      "needs_background": "light"
     },
     "output_type": "display_data"
    }
   ],
   "source": [
    "heatmap = sns.heatmap(df_agg.isnull(), cbar=False)\n",
    "heatmap.figure.savefig(\"figures/missingness.png\")"
   ]
  },
  {
   "cell_type": "code",
   "execution_count": 121,
   "metadata": {},
   "outputs": [
    {
     "data": {
      "text/plain": [
       "0    7.0\n",
       "1    7.0\n",
       "2    7.0\n",
       "3    6.0\n",
       "4    6.0\n",
       "Name: final_mood, dtype: float64"
      ]
     },
     "execution_count": 121,
     "metadata": {},
     "output_type": "execute_result"
    }
   ],
   "source": [
    "df_agg[df_agg.columns[2:-1]].head()\n",
    "df_agg[df_agg.columns[-1]].head()"
   ]
  },
  {
   "cell_type": "code",
   "execution_count": 197,
   "metadata": {},
   "outputs": [
    {
     "data": {
      "image/png": "[encoded data removed]",
      "text/plain": [
       "<Figure size 792x648 with 2 Axes>"
      ]
     },
     "metadata": {},
     "output_type": "display_data"
    }
   ],
   "source": [
    "sns.set(style=\"white\")\n",
    "\n",
    "# Generate a large random dataset\n",
    "\n",
    "# Compute the correlation matrix\n",
    "corr = df_agg.corr()\n",
    "\n",
    "# Generate a mask for the upper triangle\n",
    "mask = np.triu(np.ones_like(corr, dtype=np.bool))\n",
    "\n",
    "# Set up the matplotlib figure\n",
    "f, ax = plt.subplots(figsize=(11, 9))\n",
    "\n",
    "# Generate a custom diverging colormap\n",
    "cmap = sns.diverging_palette(220, 10, as_cmap=True)\n",
    "\n",
    "# Draw the heatmap with the mask and correct aspect ratio\n",
    "fig = sns.heatmap(corr, mask=mask, cmap=cmap, vmax=.3, center=0,\n",
    "            square=True, linewidths=.5, cbar_kws={\"shrink\": .5})\n",
    "fig.figure.savefig(\"figures/correlation_heatmap.png\")"
   ]
  },
  {
   "cell_type": "markdown",
   "metadata": {},
   "source": [
    "## Train Models"
   ]
  },
  {
   "cell_type": "code",
   "execution_count": 248,
   "metadata": {},
   "outputs": [],
   "source": [
    "import pandas as pd \n",
    "from sklearn.pipeline import Pipeline\n",
    "from sklearn.metrics import f1_score\n",
    "from sklearn.svm import LinearSVR\n",
    "from sklearn.preprocessing import StandardScaler  # scale time features\n",
    "from sklearn.svm import SVC\n",
    "from sklearn.model_selection import GridSearchCV, cross_val_score, KFold, StratifiedKFold\n",
    "from sklearn.ensemble import GradientBoostingRegressor"
   ]
  },
  {
   "cell_type": "code",
   "execution_count": 249,
   "metadata": {},
   "outputs": [],
   "source": [
    "clf = Pipeline([\n",
    "                ('scale', StandardScaler()),\n",
    "                ('clf', GradientBoostingRegressor())\n",
    "            ])"
   ]
  },
  {
   "cell_type": "code",
   "execution_count": 176,
   "metadata": {},
   "outputs": [],
   "source": [
    "#y"
   ]
  },
  {
   "cell_type": "code",
   "execution_count": 170,
   "metadata": {},
   "outputs": [
    {
     "data": {
      "text/plain": [
       "False"
      ]
     },
     "execution_count": 170,
     "metadata": {},
     "output_type": "execute_result"
    }
   ],
   "source": [
    "#np.isnan(y).any()\n",
    "np.any(np.isnan(y))"
   ]
  },
  {
   "cell_type": "code",
   "execution_count": 261,
   "metadata": {},
   "outputs": [
    {
     "name": "stdout",
     "output_type": "stream",
     "text": [
      "Before Feature Selection:  13\n",
      "After Feature Selection:  8\n",
      "MSE: 0.5544821926999804 Best params: {'clf__learning_rate': 0.01, 'clf__loss': 'ls', 'clf__n_estimators': 200}\n",
      "New Best\n",
      "R2-squared:  -0.5544821926999804\n"
     ]
    },
    {
     "name": "stderr",
     "output_type": "stream",
     "text": [
      "C:\\Users\\levrex\\Anaconda3\\lib\\site-packages\\sklearn\\model_selection\\_search.py:813: DeprecationWarning: The default of the `iid` parameter will change from True to False in version 0.22 and will be removed in 0.24. This will change numeric results when test-set sizes are unequal.\n",
      "  DeprecationWarning)\n"
     ]
    },
    {
     "name": "stdout",
     "output_type": "stream",
     "text": [
      "MSE: 0.4440074051942543 Best params: {'clf__learning_rate': 0.01, 'clf__loss': 'huber', 'clf__n_estimators': 100}\n",
      "New Best\n",
      "R2-squared:  -0.4440074051942543\n",
      "MSE: 0.5517454058527019 Best params: {'clf__learning_rate': 0.01, 'clf__loss': 'ls', 'clf__n_estimators': 100}\n",
      "Best model: SVC  MSE: 0.4440074051942543 Param: {'clf__learning_rate': 0.01, 'clf__loss': 'huber', 'clf__n_estimators': 100}\n"
     ]
    },
    {
     "name": "stderr",
     "output_type": "stream",
     "text": [
      "C:\\Users\\levrex\\Anaconda3\\lib\\site-packages\\sklearn\\model_selection\\_search.py:813: DeprecationWarning: The default of the `iid` parameter will change from True to False in version 0.22 and will be removed in 0.24. This will change numeric results when test-set sizes are unequal.\n",
      "  DeprecationWarning)\n"
     ]
    }
   ],
   "source": [
    "# large folds -> to ensure enough training & validation data\n",
    "from sklearn.pipeline import make_pipeline\n",
    "from sklearn.metrics import accuracy_score, classification_report\n",
    "from sklearn.metrics import f1_score\n",
    "from yellowbrick.model_selection import RFECV\n",
    "import pickle\n",
    "from sklearn.metrics import make_scorer\n",
    "from sklearn import preprocessing\n",
    "from sklearn.model_selection import train_test_split\n",
    "from sklearn.linear_model import LassoCV\n",
    "from sklearn.ensemble import VotingClassifier\n",
    "from mlxtend.classifier import EnsembleVoteClassifier\n",
    "from sklearn.metrics import max_error\n",
    "from sklearn.metrics import mean_squared_error\n",
    "from sklearn.feature_selection import SelectFromModel\n",
    "\n",
    "\n",
    "\n",
    "SEED = 26062019\n",
    "\n",
    "X = df_agg[df_agg.columns[2:-1]]\n",
    "X = X.fillna(0)\n",
    "\n",
    "y = df_agg[df_agg.columns[-1]]\n",
    "\n",
    "#enc = preprocessing.LabelEncoder()\n",
    "#y = enc.fit_transform(y)  #['HER2+', 'HR+', 'Triple Neg']\n",
    "\n",
    "\n",
    "#enc = preprocessing.LabelEncoder()\n",
    "#y = enc.fit_transform(y)\n",
    "\n",
    "#C_range = 10.**np.arange(-5, 1)\n",
    "#penalty_options = ['l1', 'l2']\n",
    "\n",
    "#pipe = make_pipeline(RFECV(estimator=svc, cv=StratifiedKFold(y, 3), scoring='f1'), SVC())\n",
    "X_train, X_test, y_train, y_test = train_test_split(X, y, test_size=0.10, random_state=SEED)\n",
    "\n",
    "sfm = SelectFromModel(LassoCV(cv=10))\n",
    "sfm.fit(X_train,y_train)\n",
    "#X = feat.fit_transform(X, y)\n",
    "print('Before Feature Selection: ', len(X_train.columns))\n",
    "X_train = sfm.transform(X_train) #.shape[1]\n",
    "print('After Feature Selection: ', len(X_train[0]))\n",
    "#print(len(X_train[n_features]))\n",
    "#print(èlgeok)\n",
    "## later omringen met kfold_outer\n",
    "old_er = 100\n",
    "param = 0\n",
    "best_model = ''\n",
    "\n",
    "estimator_list = []\n",
    "estimator = clf\n",
    "param_grid =  {\n",
    "        'clf__loss': ['ls', 'lad', 'huber', 'quantile'],\n",
    "        'clf__n_estimators': [100,200, 300], # 0.01, 0.01, 0.1,\n",
    "        'clf__learning_rate': [0.1, 0.01, 0.001, 0.0001]\n",
    "    }\n",
    "kfold_outer = KFold(n_splits=3,shuffle=True,random_state=SEED)\n",
    "for i, (train, valid) in enumerate(kfold_outer.split(X_train, y_train)):\n",
    "    # reset\n",
    "    #print(train)\n",
    "\n",
    "    #kfold_inner = StratifiedKFold(n_splits=3,shuffle=True,random_state=SEED)\n",
    "\n",
    "    X_tr, y_tr, X_valid, y_valid = X_train[train], y_train.iloc[train], X_train[valid], y_train.iloc[valid]\n",
    "    #print(y_tr)\n",
    "    grid = GridSearchCV(estimator, param_grid, cv=5, scoring='neg_mean_squared_error')\n",
    "    #print(X_tr)\n",
    "\n",
    "    grid.fit(X_tr, y_tr)  # contains nan\n",
    "    y_pred = grid.predict(X_valid)\n",
    "    #f1 = f1_score(y_valid, y_pred, average='micro')\n",
    "    \n",
    "    er = mean_squared_error(y_valid, y_pred)\n",
    "    print('MSE:', str(er), 'Best params:', str(grid.best_params_))  # print best hyperparam\n",
    "    #print(classification_report(y_valid, y_pred, target_names=['1', '2', '3']))\n",
    "    #estimator_list.append(grid)\n",
    "    if er < old_er:\n",
    "        print('New Best')\n",
    "        #print('Final F1:', str(er), 'Best params:', str(grid.best_params_))\n",
    "        #eclf1 = EnsembleVoteClassifier(clfs=estimator_list, voting='hard', refit=False)\n",
    "        print('R2-squared: ', grid.score(X_valid, y_valid))\n",
    "        pickle.dump(grid, open('models/classical_model.sav', 'wb'))\n",
    "        old_er = er\n",
    "        param = grid.best_params_\n",
    "        best_model = 'SVC'\n",
    "        \n",
    "print('Best model:', best_model, ' MSE:', old_er, 'Param:', param)    "
   ]
  },
  {
   "cell_type": "code",
   "execution_count": 262,
   "metadata": {},
   "outputs": [
    {
     "data": {
      "image/png": "[encoded data removed]",
      "text/plain": [
       "<Figure size 576x396 with 1 Axes>"
      ]
     },
     "metadata": {},
     "output_type": "display_data"
    },
    {
     "name": "stdout",
     "output_type": "stream",
     "text": [
      "[[1.         0.34357732]\n",
      " [0.34357732 1.        ]]\n"
     ]
    }
   ],
   "source": [
    "# Plot\n",
    "plt.scatter(y_valid, y_pred) # \n",
    "plt.title('Scatter plot')\n",
    "plt.xlabel('test')\n",
    "plt.ylabel('prediction')\n",
    "plt.show()\n",
    "print(np.corrcoef(y_valid, y_pred))"
   ]
  },
  {
   "cell_type": "code",
   "execution_count": 263,
   "metadata": {},
   "outputs": [
    {
     "name": "stdout",
     "output_type": "stream",
     "text": [
      "Before Feature Selection:  13\n",
      "After Feature Selection:  8\n",
      "MSE final: 0.5433327775370523 Best params: {'clf__learning_rate': 0.01, 'clf__loss': 'ls', 'clf__n_estimators': 100}\n"
     ]
    }
   ],
   "source": [
    "print('Before Feature Selection: ', len(X_test.columns))\n",
    "X_test_t = sfm.transform(X_test) #.shape[1]\n",
    "print('After Feature Selection: ', len(X_test_t[0]))\n",
    "y_pred =  grid.predict(X_test_t)\n",
    "err = mean_squared_error(y_test, y_pred)\n",
    "print('MSE final:', str(err), 'Best params:', str(grid.best_params_))  # print best hyperparam\n",
    "#print(classification_report(y_test, y_pred, target_names=['0', '1', '2']))"
   ]
  },
  {
   "cell_type": "code",
   "execution_count": null,
   "metadata": {},
   "outputs": [],
   "source": [
    "#X_test[X_test.columns[sfm.get_support()]]"
   ]
  },
  {
   "cell_type": "code",
   "execution_count": 264,
   "metadata": {},
   "outputs": [
    {
     "data": {
      "image/png": "[encoded data removed]",
      "text/plain": [
       "<Figure size 576x396 with 1 Axes>"
      ]
     },
     "metadata": {},
     "output_type": "display_data"
    },
    {
     "name": "stdout",
     "output_type": "stream",
     "text": [
      "[[1.         0.26075588]\n",
      " [0.26075588 1.        ]]\n"
     ]
    }
   ],
   "source": [
    "# Plot\n",
    "plt.scatter(y_test, y_pred) # \n",
    "plt.title('Scatter plot')\n",
    "plt.xlabel('test')\n",
    "plt.ylabel('prediction')\n",
    "plt.show()\n",
    "print(np.corrcoef(y_test, y_pred))"
   ]
  },
  {
   "cell_type": "code",
   "execution_count": null,
   "metadata": {},
   "outputs": [],
   "source": []
  }
 ],
 "metadata": {
  "kernelspec": {
   "display_name": "Python 3",
   "language": "python",
   "name": "python3"
  },
  "language_info": {
   "codemirror_mode": {
    "name": "ipython",
    "version": 3
   },
   "file_extension": ".py",
   "mimetype": "text/x-python",
   "name": "python",
   "nbconvert_exporter": "python",
   "pygments_lexer": "ipython3",
   "version": "3.7.3"
  }
 },
 "nbformat": 4,
 "nbformat_minor": 2
}
